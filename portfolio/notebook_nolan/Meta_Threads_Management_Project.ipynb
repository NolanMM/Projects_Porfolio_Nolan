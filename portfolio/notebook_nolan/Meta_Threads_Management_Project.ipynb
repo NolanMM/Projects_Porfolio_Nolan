{
 "cells": [
  {
   "cell_type": "code",
   "execution_count": 4,
   "id": "7f416ac8-1d59-4746-96b0-701c7917e279",
   "metadata": {},
   "outputs": [],
   "source": [
    "import requests\n",
    "\n",
    "url =  \"https://graph.threads.net/v1.0/?access_token=3026391720833839%7Cqx0vxNGL17UHIsKgOYmBaUntUyc\"\n",
    "response = requests.get(url)\n"
   ]
  },
  {
   "cell_type": "code",
   "execution_count": 5,
   "id": "0e6b1f51-c268-49d6-9f9a-f7d5b4da6a6d",
   "metadata": {},
   "outputs": [
    {
     "data": {
      "text/plain": [
       "<Response [500]>"
      ]
     },
     "execution_count": 5,
     "metadata": {},
     "output_type": "execute_result"
    }
   ],
   "source": [
    "response"
   ]
  },
  {
   "cell_type": "code",
   "execution_count": null,
   "id": "24bf3375-3c17-4efa-a8e9-4575150752e3",
   "metadata": {},
   "outputs": [],
   "source": [
    " \"https://graph.threads.net/v1.0/?access_token=3026391720833839%7Cqx0vxNGL17UHIsKgOYmBaUntUyc\""
   ]
  },
  {
   "cell_type": "code",
   "execution_count": 6,
   "id": "fa5fc25c-e96c-4feb-9ee3-55998c372a03",
   "metadata": {},
   "outputs": [
    {
     "name": "stdout",
     "output_type": "stream",
     "text": [
      "HTTP error occurred: 500 Server Error: Internal Server Error for url: https://graph.threads.net/v1.0/users?username=n_olanm&access_token=3026391720833839%7Cqx0vxNGL17UHIsKgOYmBaUntUyc\n"
     ]
    }
   ],
   "source": [
    "\n",
    "def get_user_id(username, access_token):\n",
    "    url = f\"https://graph.threads.net/v1.0/users\"\n",
    "    params = {\n",
    "        'username': username,\n",
    "        'access_token': access_token\n",
    "    }\n",
    "    \n",
    "    response = requests.get(url, params=params)\n",
    "    \n",
    "    if response.status_code == 200:\n",
    "        user_info = response.json()\n",
    "        user_id = user_info.get('id')\n",
    "        return user_id\n",
    "    else:\n",
    "        response.raise_for_status()\n",
    "\n",
    "# Example usage\n",
    "username = 'n_olanm'\n",
    "access_token='3026391720833839|qx0vxNGL17UHIsKgOYmBaUntUyc'\n",
    "try:\n",
    "    user_id = get_user_id(username, access_token)\n",
    "    print(user_id)\n",
    "except requests.exceptions.HTTPError as err:\n",
    "    print(f\"HTTP error occurred: {err}\")\n",
    "except Exception as err:\n",
    "    print(f\"Other error occurred: {err}\")\n"
   ]
  },
  {
   "cell_type": "code",
   "execution_count": null,
   "id": "25ac6da8-a020-4e8c-a46d-25eeec753485",
   "metadata": {},
   "outputs": [],
   "source": [
    "import requests\n",
    "\n",
    "def get_user_media_ids(user_id, access_token):\n",
    "    url = f\"https://graph.threads.net/v1.0/{user_id}/media\"\n",
    "    params = {\n",
    "        'access_token': access_token\n",
    "    }\n",
    "    \n",
    "    response = requests.get(url, params=params)\n",
    "    \n",
    "    if response.status_code == 200:\n",
    "        media_items = response.json().get('data', [])\n",
    "        media_ids = [item['id'] for item in media_items]\n",
    "        return media_ids\n",
    "    else:\n",
    "        response.raise_for_status()\n",
    "\n",
    "# Example usage\n",
    "user_id = 'YOUR_USER_ID'\n",
    "access_token = 'YOUR_THREADS_ACCESS_TOKEN'\n",
    "try:\n",
    "    media_ids = get_user_media_ids(user_id, access_token)\n",
    "    print(media_ids)\n",
    "except requests.exceptions.HTTPError as err:\n",
    "    print(f\"HTTP error occurred: {err}\")\n",
    "except Exception as err:\n",
    "    print(f\"Other error occurred: {err}\")\n"
   ]
  },
  {
   "cell_type": "code",
   "execution_count": null,
   "id": "dddf9c15-37fc-44e2-9a81-9ad667f036c8",
   "metadata": {},
   "outputs": [],
   "source": [
    "import requests\n",
    "\n",
    "def get_threads_insights(media_id, access_token):\n",
    "    url = f\"https://graph.threads.net/v1.0/{media_id}/insights\"\n",
    "    params = {\n",
    "        'metric': 'likes,replies',\n",
    "        'access_token': access_token\n",
    "    }\n",
    "    \n",
    "    response = requests.get(url, params=params)\n",
    "    \n",
    "    if response.status_code == 200:\n",
    "        return response.json()\n",
    "    else:\n",
    "        response.raise_for_status()\n",
    "\n",
    "# Example usage\n",
    "media_id = 'YOUR_THREADS_MEDIA_ID'\n",
    "access_token = 'YOUR_THREADS_ACCESS_TOKEN'\n",
    "try:\n",
    "    insights = get_threads_insights(media_id, access_token)\n",
    "    print(insights)\n",
    "except requests.exceptions.HTTPError as err:\n",
    "    print(f\"HTTP error occurred: {err}\")\n",
    "except Exception as err:\n",
    "    print(f\"Other error occurred: {err}\")\n"
   ]
  }
 ],
 "metadata": {
  "kernelspec": {
   "display_name": "Python 3 (ipykernel)",
   "language": "python",
   "name": "python3"
  },
  "language_info": {
   "codemirror_mode": {
    "name": "ipython",
    "version": 3
   },
   "file_extension": ".py",
   "mimetype": "text/x-python",
   "name": "python",
   "nbconvert_exporter": "python",
   "pygments_lexer": "ipython3",
   "version": "3.9.0"
  }
 },
 "nbformat": 4,
 "nbformat_minor": 5
}
